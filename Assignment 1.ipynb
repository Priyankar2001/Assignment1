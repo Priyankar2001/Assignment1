{
 "cells": [
  {
   "cell_type": "markdown",
   "id": "9afa9f84",
   "metadata": {},
   "source": [
    "# Assignment1\n",
    "\n",
    "Answers:\n",
    "1.\n",
    "'hello'-Values\n",
    "-87.8 - Values\n",
    "-     - Expression\n",
    "/     - expression\n",
    "6     -Value\n",
    "\n",
    "2.\n",
    "Variables are symbols that you can use to store data in a program. You can think of them as an empty box that you fill with some data or value. Strings are data, so we can use them to fill up a variable.\n",
    "\n",
    "3.\n",
    "Integer numbers (of varying sizes), floating-point numbers (which approximate real numbers), characters and Booleans.\n",
    "\n",
    "4.\n",
    "An expression is a combination of operators and operands that is interpreted to produce some other value. In any programming language, an expression is evaluated as per the precedence of its operators.\n",
    "The expression in Python can be considered as a logical line of code that is evaluated to obtain some result.\n",
    "\n",
    "Example-\n",
    "An example of expression can be: x=x+10. In this expression, the first 10 is added to the variable x. After the addition is performed, the result is assigned to the variable x.\n",
    "\n",
    "\n",
    "5.\n",
    "A statement in Python is used for creating variables or for displaying values. The expression in Python produces some value or result after being interpreted by the Python interpreter. A statement in Python is not evaluated for some results. An expression in Python is evaluated for some results.\n",
    "\n",
    "6.\n",
    "It will contain 23.\n",
    "\n",
    "7.\n",
    "'spamspamspam'\n",
    "\n",
    "8.\n",
    "Because variable names cannot begin with a number\n",
    "\n",
    "9.\n",
    "The int() , float() , and str( ) functions will evaluate to the integer, floating-point number, and string versions of the value passed to them.\n",
    "\n",
    "10.\n",
    "The expression causes an error because 99 is an integer, and only strings can be concatenated to other strings with the + operator. The correct way is I have eaten ' + str(99) + ' burritos.\n"
   ]
  },
  {
   "cell_type": "code",
   "execution_count": null,
   "id": "c11c6575",
   "metadata": {},
   "outputs": [],
   "source": []
  }
 ],
 "metadata": {
  "kernelspec": {
   "display_name": "Python 3 (ipykernel)",
   "language": "python",
   "name": "python3"
  },
  "language_info": {
   "codemirror_mode": {
    "name": "ipython",
    "version": 3
   },
   "file_extension": ".py",
   "mimetype": "text/x-python",
   "name": "python",
   "nbconvert_exporter": "python",
   "pygments_lexer": "ipython3",
   "version": "3.9.13"
  }
 },
 "nbformat": 4,
 "nbformat_minor": 5
}
